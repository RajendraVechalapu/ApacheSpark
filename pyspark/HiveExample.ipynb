{
 "cells": [
  {
   "cell_type": "code",
   "execution_count": 1,
   "metadata": {},
   "outputs": [],
   "source": [
    "import findspark\n",
    "findspark.init()\n",
    "\n",
    "import pyspark\n"
   ]
  },
  {
   "cell_type": "code",
   "execution_count": 2,
   "metadata": {},
   "outputs": [
    {
     "name": "stdout",
     "output_type": "stream",
     "text": [
      "spark: 3\n",
      "hadoop: 2\n",
      "pyspark: 2\n",
      "vs: 1\n",
      "and: 1\n"
     ]
    }
   ],
   "source": [
    "import sys\n",
    "from operator import add\n",
    "from pyspark.sql import SparkSession, Row\n",
    "\n",
    "spark = SparkSession\\\n",
    "   .builder\\\n",
    "   .appName(\"PythonWordCount\")\\\n",
    "   .getOrCreate()\n",
    "\n",
    "data = [Row(col1='pyspark and spark', col2=1), Row(col1='pyspark', col2=2), Row(col1='spark vs hadoop', col2=2), Row(col1='spark', col2=2), Row(col1='hadoop', col2=2)]\n",
    "df = spark.createDataFrame(data)\n",
    "lines = df.rdd.map(lambda r: r[0])\n",
    "\n",
    "counters = lines.flatMap(lambda x: x.split(' ')) \\\n",
    "   .map(lambda x: (x, 1)) \\\n",
    "   .reduceByKey(add)\n",
    "\n",
    "output = counters.collect()\n",
    "sortedCollection = sorted(output, key = lambda r: r[1], reverse = True)\n",
    "\n",
    "for (word, count) in sortedCollection:\n",
    "   print(\"%s: %i\" % (word, count))"
   ]
  }
 ],
 "metadata": {
  "kernelspec": {
   "display_name": "Python 3",
   "language": "python",
   "name": "python3"
  },
  "language_info": {
   "codemirror_mode": {
    "name": "ipython",
    "version": 3
   },
   "file_extension": ".py",
   "mimetype": "text/x-python",
   "name": "python",
   "nbconvert_exporter": "python",
   "pygments_lexer": "ipython3",
   "version": "3.9.13"
  },
  "orig_nbformat": 4,
  "vscode": {
   "interpreter": {
    "hash": "c3e2186f3e75c2e4d8bf4a9c2c6f5bbde3f82a807985a857a2376933c1aa25c0"
   }
  }
 },
 "nbformat": 4,
 "nbformat_minor": 2
}
