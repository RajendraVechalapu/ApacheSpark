{
 "cells": [
  {
   "cell_type": "code",
   "execution_count": null,
   "metadata": {},
   "outputs": [],
   "source": [
    "#jupyter nbconvert --to notebook --execute convert-column-python-list.py --output convert-column-python-list.ipynb"
   ]
  }
 ],
 "metadata": {
  "kernelspec": {
   "display_name": "Python 3",
   "language": "python",
   "name": "python3"
  },
  "language_info": {
   "name": "python",
   "version": "3.9.13"
  },
  "orig_nbformat": 4,
  "vscode": {
   "interpreter": {
    "hash": "c3e2186f3e75c2e4d8bf4a9c2c6f5bbde3f82a807985a857a2376933c1aa25c0"
   }
  }
 },
 "nbformat": 4,
 "nbformat_minor": 2
}
