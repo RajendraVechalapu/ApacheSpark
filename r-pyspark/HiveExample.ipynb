{
 "cells": [
  {
   "cell_type": "code",
   "execution_count": 1,
   "metadata": {},
   "outputs": [],
   "source": [
    "# Usage of spark object in PySpark shell\n",
    "import findspark\n",
    "findspark.init()\n",
    "import pyspark\n",
    "from pyspark.sql import SparkSession, Row\n",
    "import sys\n",
    "from operator import add\n",
    "spark = SparkSession.builder.getOrCreate()\n",
    "\n",
    "#import pandas as pd\n"
   ]
  },
  {
   "cell_type": "code",
   "execution_count": 2,
   "metadata": {},
   "outputs": [
    {
     "name": "stdout",
     "output_type": "stream",
     "text": [
      "+----+---+-------+\n",
      "|Name|Age|Country|\n",
      "+----+---+-------+\n",
      "|John| 25|    USA|\n",
      "|Emma| 28| Canada|\n",
      "|Mike| 22|     UK|\n",
      "+----+---+-------+\n",
      "\n",
      "root\n",
      " |-- Name: string (nullable = true)\n",
      " |-- Age: long (nullable = true)\n",
      " |-- Country: string (nullable = true)\n",
      "\n"
     ]
    }
   ],
   "source": [
    "\n",
    "\n",
    "# Create a DataFrame from a list of tuples\n",
    "data = [(\"John\", 25, \"USA\"),\n",
    "        (\"Emma\", 28, \"Canada\"),\n",
    "        (\"Mike\", 22, \"UK\")]\n",
    "\n",
    "df = spark.createDataFrame(data, [\"Name\", \"Age\", \"Country\"])\n",
    "\n",
    "# Show the DataFrame\n",
    "df.show()\n",
    "\n",
    "# Print the schema\n",
    "df.printSchema()\n"
   ]
  },
  {
   "cell_type": "code",
   "execution_count": null,
   "metadata": {},
   "outputs": [],
   "source": []
  },
  {
   "cell_type": "code",
   "execution_count": 3,
   "metadata": {},
   "outputs": [
    {
     "name": "stdout",
     "output_type": "stream",
     "text": [
      "+----+-------+\n",
      "|Name|Country|\n",
      "+----+-------+\n",
      "|John|    USA|\n",
      "|Emma| Canada|\n",
      "|Mike|     UK|\n",
      "+----+-------+\n",
      "\n"
     ]
    }
   ],
   "source": [
    "\n",
    "\n",
    "\n",
    "# Select specific columns\n",
    "selected_df = df.select(\"Name\", \"Country\")\n",
    "selected_df.show()\n"
   ]
  },
  {
   "cell_type": "code",
   "execution_count": null,
   "metadata": {},
   "outputs": [],
   "source": []
  },
  {
   "cell_type": "code",
   "execution_count": 4,
   "metadata": {},
   "outputs": [
    {
     "name": "stdout",
     "output_type": "stream",
     "text": [
      "+----+---+-------+\n",
      "|Name|Age|Country|\n",
      "+----+---+-------+\n",
      "|Emma| 28| Canada|\n",
      "+----+---+-------+\n",
      "\n"
     ]
    }
   ],
   "source": [
    "\n",
    "# Filter rows based on a condition\n",
    "filtered_df = df.filter(df.Age > 25)\n",
    "filtered_df.show()\n"
   ]
  },
  {
   "cell_type": "code",
   "execution_count": null,
   "metadata": {},
   "outputs": [],
   "source": []
  },
  {
   "cell_type": "code",
   "execution_count": 5,
   "metadata": {},
   "outputs": [
    {
     "name": "stdout",
     "output_type": "stream",
     "text": [
      "+-------+--------+\n",
      "|Country|avg(Age)|\n",
      "+-------+--------+\n",
      "|    USA|    25.0|\n",
      "| Canada|    28.0|\n",
      "|     UK|    22.0|\n",
      "+-------+--------+\n",
      "\n"
     ]
    }
   ],
   "source": [
    "\n",
    "# Group by a column and perform aggregation\n",
    "grouped_df = df.groupBy(\"Country\").agg({\"Age\": \"avg\"})\n",
    "grouped_df.show()\n"
   ]
  },
  {
   "cell_type": "code",
   "execution_count": 6,
   "metadata": {},
   "outputs": [
    {
     "name": "stdout",
     "output_type": "stream",
     "text": [
      "+----+---+-------+----------+\n",
      "|Name|Age|Country|Department|\n",
      "+----+---+-------+----------+\n",
      "|Emma| 28| Canada| Marketing|\n",
      "|John| 25|    USA|     Sales|\n",
      "|Mike| 22|     UK|   Finance|\n",
      "+----+---+-------+----------+\n",
      "\n"
     ]
    }
   ],
   "source": [
    "\n",
    "# Join two DataFrames\n",
    "data2 = [(\"John\", \"Sales\"),\n",
    "         (\"Emma\", \"Marketing\"),\n",
    "         (\"Mike\", \"Finance\")]\n",
    "\n",
    "df2 = spark.createDataFrame(data2, [\"Name\", \"Department\"])\n",
    "\n",
    "joined_df = df.join(df2, on=\"Name\", how=\"inner\")\n",
    "joined_df.show()\n",
    "\n",
    "# Stop the SparkSession\n",
    "spark.stop()\n"
   ]
  },
  {
   "cell_type": "code",
   "execution_count": null,
   "metadata": {},
   "outputs": [],
   "source": []
  },
  {
   "cell_type": "code",
   "execution_count": null,
   "metadata": {},
   "outputs": [],
   "source": [
    "\n",
    "\n",
    "data = [Row(col1='pyspark and spark', col2=1), Row(col1='pyspark', col2=2), Row(col1='spark vs hadoop', col2=2), Row(col1='spark', col2=2), Row(col1='hadoop', col2=2)]\n",
    "df = spark.createDataFrame(data)\n",
    "lines = df.rdd.map(lambda r: r[0])\n",
    "\n",
    "counters = lines.flatMap(lambda x: x.split(' ')) \\\n",
    "   .map(lambda x: (x, 1)) \\\n",
    "   .reduceByKey(add)\n",
    "\n",
    "output = counters.collect()\n",
    "sortedCollection = sorted(output, key = lambda r: r[1], reverse = True)\n",
    "\n",
    "for (word, count) in sortedCollection:\n",
    "   print(\"%s: %i\" % (word, count))"
   ]
  }
 ],
 "metadata": {
  "kernelspec": {
   "display_name": "Python 3",
   "language": "python",
   "name": "python3"
  },
  "language_info": {
   "codemirror_mode": {
    "name": "ipython",
    "version": 3
   },
   "file_extension": ".py",
   "mimetype": "text/x-python",
   "name": "python",
   "nbconvert_exporter": "python",
   "pygments_lexer": "ipython3",
   "version": "3.9.13"
  },
  "orig_nbformat": 4,
  "vscode": {
   "interpreter": {
    "hash": "c3e2186f3e75c2e4d8bf4a9c2c6f5bbde3f82a807985a857a2376933c1aa25c0"
   }
  }
 },
 "nbformat": 4,
 "nbformat_minor": 2
}
