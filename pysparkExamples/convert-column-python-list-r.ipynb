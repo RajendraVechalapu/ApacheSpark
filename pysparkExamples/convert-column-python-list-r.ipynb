{
 "cells": [
  {
   "cell_type": "code",
   "execution_count": 2,
   "metadata": {},
   "outputs": [],
   "source": [
    "# -*- coding: utf-8 -*-\n",
    "\"\"\"\n",
    "author SparkByExamples.com\n",
    "\"\"\"\n",
    "import findspark\n",
    "findspark.init()\n",
    "import  pyspark\n",
    "\n",
    "from pyspark.sql import SparkSession\n",
    "spark = SparkSession.builder.master(\"local[1]\") \\\n",
    "                    .appName('SparkByExamples.com') \\\n",
    "                    .getOrCreate()\n"
   ]
  },
  {
   "cell_type": "code",
   "execution_count": 7,
   "metadata": {},
   "outputs": [
    {
     "name": "stdout",
     "output_type": "stream",
     "text": [
      "+---------+--------+-------+-----+\n",
      "|firstname|lastname|country|state|\n",
      "+---------+--------+-------+-----+\n",
      "|    James|   Smith|    USA|   CA|\n",
      "|  Michael|    Rose|    USA|   NY|\n",
      "|   Robert|Williams|    USA|   CA|\n",
      "|    Maria|   Jones|    USA|   FL|\n",
      "+---------+--------+-------+-----+\n",
      "\n"
     ]
    }
   ],
   "source": [
    "\n",
    "data = [(\"James\",\"Smith\",\"USA\",\"CA\"),(\"Michael\",\"Rose\",\"USA\",\"NY\"), \\\n",
    "    (\"Robert\",\"Williams\",\"USA\",\"CA\"),(\"Maria\",\"Jones\",\"USA\",\"FL\") \\\n",
    "  ]\n",
    "columns=[\"firstname\",\"lastname\",\"country\",\"state\"]\n",
    "df=spark.createDataFrame(data=data,schema=columns)\n",
    "df.show()\n",
    "#df.collect()\n",
    "#print(df.collect())\n"
   ]
  },
  {
   "cell_type": "code",
   "execution_count": null,
   "metadata": {},
   "outputs": [],
   "source": [
    "\n",
    "states1=df.rdd.map(lambda x: x[3]).collect()\n",
    "print(states1)\n",
    "#['CA', 'NY', 'CA', 'FL']\n",
    "from collections import OrderedDict \n",
    "res = list(OrderedDict.fromkeys(states1)) \n",
    "print(res)\n",
    "#['CA', 'NY', 'FL']\n",
    "\n",
    "\n",
    "#Example 2\n",
    "states2=df.rdd.map(lambda x: x.state).collect()\n",
    "print(states2)\n",
    "#['CA', 'NY', 'CA', 'FL']\n",
    "\n",
    "states3=df.select(df.state).collect()\n",
    "print(states3)\n",
    "#[Row(state='CA'), Row(state='NY'), Row(state='CA'), Row(state='FL')]\n",
    "\n",
    "states4=df.select(df.state).rdd.flatMap(lambda x: x).collect()\n",
    "print(states4)\n",
    "#['CA', 'NY', 'CA', 'FL']\n",
    "\n",
    "states5=df.select(df.state).toPandas()['state']\n",
    "states6=list(states5)\n",
    "print(states6)\n",
    "#['CA', 'NY', 'CA', 'FL']\n",
    "\n",
    "pandDF=df.select(df.state,df.firstname).toPandas()\n",
    "print(list(pandDF['state']))\n",
    "print(list(pandDF['firstname']))"
   ]
  }
 ],
 "metadata": {
  "kernelspec": {
   "display_name": "Python 3",
   "language": "python",
   "name": "python3"
  },
  "language_info": {
   "codemirror_mode": {
    "name": "ipython",
    "version": 3
   },
   "file_extension": ".py",
   "mimetype": "text/x-python",
   "name": "python",
   "nbconvert_exporter": "python",
   "pygments_lexer": "ipython3",
   "version": "3.9.13"
  },
  "orig_nbformat": 4,
  "vscode": {
   "interpreter": {
    "hash": "c3e2186f3e75c2e4d8bf4a9c2c6f5bbde3f82a807985a857a2376933c1aa25c0"
   }
  }
 },
 "nbformat": 4,
 "nbformat_minor": 2
}
